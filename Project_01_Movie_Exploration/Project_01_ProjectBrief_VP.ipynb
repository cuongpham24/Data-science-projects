{
 "cells": [
  {
   "cell_type": "markdown",
   "metadata": {},
   "source": [
    "# Explanatory Data Analysis & Data Presentation (Movies Dataset)"
   ]
  },
  {
   "cell_type": "code",
   "execution_count": 335,
   "metadata": {},
   "outputs": [],
   "source": [
    "import pandas as pd\n",
    "import numpy as np\n",
    "import matplotlib.pyplot as plt\n",
    "from IPython.display import HTML\n",
    "pd.options.display.max_colwidth = 200\n",
    "pd.options.display.max_columns = 30\n",
    "pd.options.display.float_format = '{:.2f}'.format"
   ]
  },
  {
   "cell_type": "markdown",
   "metadata": {},
   "source": [
    "## Data Import and first Inspection"
   ]
  },
  {
   "cell_type": "markdown",
   "metadata": {},
   "source": [
    "1. __Import__ the movies dataset from the CSV file \"movies_complete.csv\". __Inspect__ the data."
   ]
  },
  {
   "cell_type": "markdown",
   "metadata": {},
   "source": [
    "__Some additional information on Features/Columns__:"
   ]
  },
  {
   "cell_type": "markdown",
   "metadata": {},
   "source": [
    "* **id:** The ID of the movie (clear/unique identifier).\n",
    "* **title:** The Official Title of the movie.\n",
    "* **tagline:** The tagline of the movie.\n",
    "* **release_date:** Theatrical Release Date of the movie.\n",
    "* **genres:** Genres associated with the movie.\n",
    "* **belongs_to_collection:** Gives information on the movie series/franchise the particular film belongs to.\n",
    "* **original_language:** The language in which the movie was originally shot in.\n",
    "* **budget_musd:** The budget of the movie in million dollars.\n",
    "* **revenue_musd:** The total revenue of the movie in million dollars.\n",
    "* **production_companies:** Production companies involved with the making of the movie.\n",
    "* **production_countries:** Countries where the movie was shot/produced in.\n",
    "* **vote_count:** The number of votes by users, as counted by TMDB.\n",
    "* **vote_average:** The average rating of the movie.\n",
    "* **popularity:** The Popularity Score assigned by TMDB.\n",
    "* **runtime:** The runtime of the movie in minutes.\n",
    "* **overview:** A brief blurb of the movie.\n",
    "* **spoken_languages:** Spoken languages in the film.\n",
    "* **poster_path:** The URL of the poster image.\n",
    "* **cast:** (Main) Actors appearing in the movie.\n",
    "* **cast_size:** number of Actors appearing in the movie.\n",
    "* **director:** Director of the movie.\n",
    "* **crew_size:** Size of the film crew (incl. director, excl. actors)."
   ]
  },
  {
   "cell_type": "code",
   "execution_count": 336,
   "metadata": {},
   "outputs": [
    {
     "data": {
      "text/html": [
       "<table border=\"1\" class=\"dataframe\">\n",
       "  <thead>\n",
       "    <tr style=\"text-align: right;\">\n",
       "      <th></th>\n",
       "      <th>poster_path</th>\n",
       "      <th>title</th>\n",
       "      <th>release_date</th>\n",
       "      <th>genres</th>\n",
       "      <th>original_language</th>\n",
       "      <th>budget_musd</th>\n",
       "      <th>revenue_musd</th>\n",
       "      <th>vote_count</th>\n",
       "      <th>vote_average</th>\n",
       "      <th>production_companies</th>\n",
       "    </tr>\n",
       "  </thead>\n",
       "  <tbody>\n",
       "    <tr>\n",
       "      <th>0</th>\n",
       "      <td><img src='http://image.tmdb.org/t/p/w185//uXDfjJbdP4ijW5hWSBrPrlKpxab.jpg' style='height:100px;'></td>\n",
       "      <td>Toy Story</td>\n",
       "      <td>1995-10-30</td>\n",
       "      <td>Animation|Comedy|Family</td>\n",
       "      <td>en</td>\n",
       "      <td>30.00</td>\n",
       "      <td>373.55</td>\n",
       "      <td>5415.00</td>\n",
       "      <td>7.70</td>\n",
       "      <td>Pixar Animation Studios</td>\n",
       "    </tr>\n",
       "    <tr>\n",
       "      <th>1</th>\n",
       "      <td><img src='http://image.tmdb.org/t/p/w185//vgpXmVaVyUL7GGiDeiK1mKEKzcX.jpg' style='height:100px;'></td>\n",
       "      <td>Jumanji</td>\n",
       "      <td>1995-12-15</td>\n",
       "      <td>Adventure|Fantasy|Family</td>\n",
       "      <td>en</td>\n",
       "      <td>65.00</td>\n",
       "      <td>262.80</td>\n",
       "      <td>2413.00</td>\n",
       "      <td>6.90</td>\n",
       "      <td>TriStar Pictures|Teitler Film|Interscope Communications</td>\n",
       "    </tr>\n",
       "    <tr>\n",
       "      <th>2</th>\n",
       "      <td><img src='http://image.tmdb.org/t/p/w185//1FSXpj5e8l4KH6nVFO5SPUeraOt.jpg' style='height:100px;'></td>\n",
       "      <td>Grumpier Old Men</td>\n",
       "      <td>1995-12-22</td>\n",
       "      <td>Romance|Comedy</td>\n",
       "      <td>en</td>\n",
       "      <td>NaN</td>\n",
       "      <td>NaN</td>\n",
       "      <td>92.00</td>\n",
       "      <td>6.50</td>\n",
       "      <td>Warner Bros.|Lancaster Gate</td>\n",
       "    </tr>\n",
       "  </tbody>\n",
       "</table>"
      ],
      "text/plain": [
       "<IPython.core.display.HTML object>"
      ]
     },
     "execution_count": 336,
     "metadata": {},
     "output_type": "execute_result"
    }
   ],
   "source": [
    "# Read data and parse date column\n",
    "df = pd.read_csv(\"./movies_complete.csv\", parse_dates=[\"release_date\"])\n",
    "# Select important columns for analysis\n",
    "df_main = df[[\"poster_path\", \"title\", \"release_date\", \"genres\", \"original_language\", \"budget_musd\", \"revenue_musd\", \n",
    "              \"vote_count\", \"vote_average\", \"production_companies\"]].copy()\n",
    "# Display movie's poster inside the dataframe\n",
    "HTML(df_main.iloc[:3, ].to_html(escape=False))\n"
   ]
  },
  {
   "cell_type": "code",
   "execution_count": 337,
   "metadata": {},
   "outputs": [
    {
     "data": {
      "text/html": [
       "<div>\n",
       "<style scoped>\n",
       "    .dataframe tbody tr th:only-of-type {\n",
       "        vertical-align: middle;\n",
       "    }\n",
       "\n",
       "    .dataframe tbody tr th {\n",
       "        vertical-align: top;\n",
       "    }\n",
       "\n",
       "    .dataframe thead th {\n",
       "        text-align: right;\n",
       "    }\n",
       "</style>\n",
       "<table border=\"1\" class=\"dataframe\">\n",
       "  <thead>\n",
       "    <tr style=\"text-align: right;\">\n",
       "      <th></th>\n",
       "      <th>budget_musd</th>\n",
       "      <th>revenue_musd</th>\n",
       "      <th>vote_count</th>\n",
       "      <th>vote_average</th>\n",
       "    </tr>\n",
       "  </thead>\n",
       "  <tbody>\n",
       "    <tr>\n",
       "      <th>count</th>\n",
       "      <td>8854.00</td>\n",
       "      <td>7385.00</td>\n",
       "      <td>44691.00</td>\n",
       "      <td>42077.00</td>\n",
       "    </tr>\n",
       "    <tr>\n",
       "      <th>mean</th>\n",
       "      <td>21.67</td>\n",
       "      <td>68.97</td>\n",
       "      <td>111.65</td>\n",
       "      <td>6.00</td>\n",
       "    </tr>\n",
       "    <tr>\n",
       "      <th>std</th>\n",
       "      <td>34.36</td>\n",
       "      <td>146.61</td>\n",
       "      <td>495.32</td>\n",
       "      <td>1.28</td>\n",
       "    </tr>\n",
       "    <tr>\n",
       "      <th>min</th>\n",
       "      <td>0.00</td>\n",
       "      <td>0.00</td>\n",
       "      <td>0.00</td>\n",
       "      <td>0.00</td>\n",
       "    </tr>\n",
       "    <tr>\n",
       "      <th>25%</th>\n",
       "      <td>2.00</td>\n",
       "      <td>2.41</td>\n",
       "      <td>3.00</td>\n",
       "      <td>5.30</td>\n",
       "    </tr>\n",
       "    <tr>\n",
       "      <th>50%</th>\n",
       "      <td>8.20</td>\n",
       "      <td>16.87</td>\n",
       "      <td>10.00</td>\n",
       "      <td>6.10</td>\n",
       "    </tr>\n",
       "    <tr>\n",
       "      <th>75%</th>\n",
       "      <td>25.00</td>\n",
       "      <td>67.64</td>\n",
       "      <td>35.00</td>\n",
       "      <td>6.80</td>\n",
       "    </tr>\n",
       "    <tr>\n",
       "      <th>max</th>\n",
       "      <td>380.00</td>\n",
       "      <td>2787.97</td>\n",
       "      <td>14075.00</td>\n",
       "      <td>10.00</td>\n",
       "    </tr>\n",
       "  </tbody>\n",
       "</table>\n",
       "</div>"
      ],
      "text/plain": [
       "       budget_musd  revenue_musd  vote_count  vote_average\n",
       "count      8854.00       7385.00    44691.00      42077.00\n",
       "mean         21.67         68.97      111.65          6.00\n",
       "std          34.36        146.61      495.32          1.28\n",
       "min           0.00          0.00        0.00          0.00\n",
       "25%           2.00          2.41        3.00          5.30\n",
       "50%           8.20         16.87       10.00          6.10\n",
       "75%          25.00         67.64       35.00          6.80\n",
       "max         380.00       2787.97    14075.00         10.00"
      ]
     },
     "execution_count": 337,
     "metadata": {},
     "output_type": "execute_result"
    }
   ],
   "source": [
    "# Get column statistic\n",
    "(df_main.drop([\"release_date\"], axis=1)).describe()"
   ]
  },
  {
   "cell_type": "markdown",
   "metadata": {},
   "source": [
    "The peak values in each column significantly surpass the median, suggesting a right-skewed distribution in the dataset. Relying solely on the mean for analysis might not adequately represent the central tendency of the majority of data points."
   ]
  },
  {
   "cell_type": "code",
   "execution_count": 338,
   "metadata": {},
   "outputs": [
    {
     "data": {
      "image/png": "[encoded data removed]",
      "text/plain": [
       "<Figure size 700x500 with 4 Axes>"
      ]
     },
     "metadata": {},
     "output_type": "display_data"
    }
   ],
   "source": [
    "# Visualize numeric column data\n",
    "df_main.drop([\"release_date\"], axis=1).hist(figsize=(7, 5), bins=50);"
   ]
  },
  {
   "cell_type": "markdown",
   "metadata": {},
   "source": [
    "The majority of numeric columns exhibit a right-skewed distribution, with significant outliers on the right side of the distribution.\n",
    "\n",
    "*Profit Calculation*: Subtract the production cost from the revenue generated by each movie to determine its profit. $$Profit = Revenue - Production Cost$$\n",
    "\n",
    "*Rate of Return Calculation*: Divide the profit by the production cost and multiply by 100 to obtain the rate of return as a percentage. $$Rate Of Return = \\frac{Revenue} {Production Cost} * 100$$\n",
    "\n",
    "Performing these calculations for each movie in the dataset"
   ]
  },
  {
   "cell_type": "code",
   "execution_count": 339,
   "metadata": {},
   "outputs": [],
   "source": [
    "# Calculate profit and rate of return \n",
    "df_main[\"profit_musd\"] = df_main[\"revenue_musd\"].subtract(df_main[\"budget_musd\"])\n",
    "df_main[\"roi\"] = df_main[\"revenue_musd\"].div(df_main[\"budget_musd\"])"
   ]
  },
  {
   "cell_type": "code",
   "execution_count": 340,
   "metadata": {},
   "outputs": [
    {
     "data": {
      "text/plain": [
       "poster_path               224\n",
       "title                       0\n",
       "release_date               34\n",
       "genres                   2105\n",
       "original_language          10\n",
       "budget_musd             35837\n",
       "revenue_musd            37306\n",
       "vote_count                  0\n",
       "vote_average             2614\n",
       "production_companies    11335\n",
       "profit_musd             39320\n",
       "roi                     39320\n",
       "dtype: int64"
      ]
     },
     "execution_count": 340,
     "metadata": {},
     "output_type": "execute_result"
    }
   ],
   "source": [
    "# Check for missing values\n",
    "df_main.isnull().sum()"
   ]
  },
  {
   "cell_type": "markdown",
   "metadata": {},
   "source": [
    "There are missing values, and depending on future analysis, we will handle missing values differently"
   ]
  },
  {
   "cell_type": "markdown",
   "metadata": {},
   "source": [
    "## The best and the worst movies..."
   ]
  },
  {
   "cell_type": "markdown",
   "metadata": {},
   "source": [
    "2. __Filter__ the Dataset and __find the best/worst n Movies__ with the"
   ]
  },
  {
   "cell_type": "markdown",
   "metadata": {},
   "source": [
    "- Highest Revenue\n",
    "- Highest Budget\n",
    "- Highest Profit (=Revenue - Budget)\n",
    "- Highest Return on Investment (=Revenue / Budget) (only movies with Budget >= 10) "
   ]
  },
  {
   "cell_type": "markdown",
   "metadata": {},
   "source": [
    "__Define__ an appropriate __user-defined function__ to reuse code."
   ]
  },
  {
   "cell_type": "code",
   "execution_count": 341,
   "metadata": {},
   "outputs": [],
   "source": [
    "def filter_result(col, df=df_main, ascending=True, n_rows=5, col_display=[\"poster_path\", \"title\"], \n",
    "                 filter=[], add_col=[]):\n",
    "    if len(filter):\n",
    "        df_temp = df.loc[filter].sort_values(by=col, ascending=ascending)\n",
    "    else:\n",
    "        df_temp = df.sort_values(by=col, ascending=ascending)\n",
    "    if len(add_col):\n",
    "        column_display = [\"poster_path\", \"title\"] + [col] + add_col\n",
    "    else:\n",
    "        column_display = [\"poster_path\", \"title\"] + [col]\n",
    "    return HTML(df_temp[column_display].iloc[:n_rows].to_html(escape=False))\n",
    "    "
   ]
  },
  {
   "cell_type": "markdown",
   "metadata": {},
   "source": [
    "__Movies Top 5 - Highest Revenue__"
   ]
  },
  {
   "cell_type": "code",
   "execution_count": 342,
   "metadata": {},
   "outputs": [
    {
     "data": {
      "text/html": [
       "<table border=\"1\" class=\"dataframe\">\n",
       "  <thead>\n",
       "    <tr style=\"text-align: right;\">\n",
       "      <th></th>\n",
       "      <th>poster_path</th>\n",
       "      <th>title</th>\n",
       "      <th>revenue_musd</th>\n",
       "    </tr>\n",
       "  </thead>\n",
       "  <tbody>\n",
       "    <tr>\n",
       "      <th>14448</th>\n",
       "      <td><img src='http://image.tmdb.org/t/p/w185//btnl50ZDJDSCal2NLQIYWw0XxvH.jpg' style='height:100px;'></td>\n",
       "      <td>Avatar</td>\n",
       "      <td>2787.97</td>\n",
       "    </tr>\n",
       "    <tr>\n",
       "      <th>26265</th>\n",
       "      <td><img src='http://image.tmdb.org/t/p/w185//9rd002JS49RwDW944fF1wjU8iTV.jpg' style='height:100px;'></td>\n",
       "      <td>Star Wars: The Force Awakens</td>\n",
       "      <td>2068.22</td>\n",
       "    </tr>\n",
       "    <tr>\n",
       "      <th>1620</th>\n",
       "      <td><img src='http://image.tmdb.org/t/p/w185//9xjZS2rlVxm8SFx8kPC3aIGCOYQ.jpg' style='height:100px;'></td>\n",
       "      <td>Titanic</td>\n",
       "      <td>1845.03</td>\n",
       "    </tr>\n",
       "    <tr>\n",
       "      <th>17669</th>\n",
       "      <td><img src='http://image.tmdb.org/t/p/w185//RYMX2wcKCBAr24UyPD7xwmjaTn.jpg' style='height:100px;'></td>\n",
       "      <td>The Avengers</td>\n",
       "      <td>1519.56</td>\n",
       "    </tr>\n",
       "    <tr>\n",
       "      <th>24812</th>\n",
       "      <td><img src='http://image.tmdb.org/t/p/w185//rhr4y79GpxQF9IsfJItRXVaoGs4.jpg' style='height:100px;'></td>\n",
       "      <td>Jurassic World</td>\n",
       "      <td>1513.53</td>\n",
       "    </tr>\n",
       "  </tbody>\n",
       "</table>"
      ],
      "text/plain": [
       "<IPython.core.display.HTML object>"
      ]
     },
     "execution_count": 342,
     "metadata": {},
     "output_type": "execute_result"
    }
   ],
   "source": [
    "# When conducting analyses involving monetary value, it's important to exclude any missing data points.\n",
    "df_main.dropna(subset=[\"profit_musd\"], inplace=True)\n",
    "# Top 5 - Highest Revenue\n",
    "filter_result(\"revenue_musd\", ascending=False)"
   ]
  },
  {
   "cell_type": "code",
   "execution_count": 343,
   "metadata": {},
   "outputs": [
    {
     "data": {
      "text/plain": [
       "(2017, 1915)"
      ]
     },
     "execution_count": 343,
     "metadata": {},
     "output_type": "execute_result"
    }
   ],
   "source": [
    "# Get the range of year in the dataset\n",
    "df_main.release_date.apply(lambda x: x.year).max(), df_main.release_date.apply(lambda x: x.year).min()"
   ]
  },
  {
   "cell_type": "markdown",
   "metadata": {},
   "source": [
    "The dataset includes movies spanning various years from 1874 to 2017, making direct monetary comparisons prone to inflationary effects. To address this, we'll adjust the revenue figures using the US inflation rate. Given that inflation rate data is accessible from 1914 onwards, we'll extrapolate inflation rates for the period between 1874 and 1913 based on historical events. Considering significant economic events like the Long Depression (1873-1879), the Panic of 1893, and the Gold Standard Act of 1900, we assume a -1% inflation rate from 1874 to 1901, reflecting high unemployment rates and numerous bank failures during this period.\n",
    "\n",
    "The late 19th and early 20th centuries witnessed a surge in industrialization in the United States, resulting in profound economic shifts, urbanization, and the emergence of large corporations, often referred to as trusts. Consequently, we estimate an inflation rate of 1% from 1901 to 1913, aligning closely with historical trends preceding 1914.\n",
    "\n",
    "$$Real Value = Nominal Value \\ast   \\prod_i^{n} \\left ( 1+\\frac{r_i}{100} \\right )$$"
   ]
  },
  {
   "cell_type": "code",
   "execution_count": 344,
   "metadata": {},
   "outputs": [],
   "source": [
    "# Get inflation rate data\n",
    "df_rate = pd.read_html(\"https://www.usinflationcalculator.com/inflation/historical-inflation-rates/\")\n",
    "# Save data from the web locally\n",
    "df_rate[0].to_csv(\"inflation_rate.csv\", index=False)\n",
    "# Remove irrelevent columns\n",
    "df_rate = df_rate[0][[\"Year\", \"Ave\"]]\n",
    "# Data imputation\n",
    "imputation = pd.DataFrame({\"Year\": list(range(1874, 1914)),\n",
    "                        \"Ave\": [-0.5 if i < 1901 else 1.0 for i in range(1874, 1914)]})\n",
    "df_rate = pd.concat([df_rate, imputation], ignore_index=True).sort_values(by=\"Year\").reset_index(drop=True)"
   ]
  },
  {
   "cell_type": "code",
   "execution_count": 345,
   "metadata": {},
   "outputs": [],
   "source": [
    "# Function to adjust money value to 2017\n",
    "def inflation_adjust(year, df_rate=df_rate):\n",
    "    # Filter rate from year of nomial_value to 2017\n",
    "    df_temp = df_rate.loc[(df_rate[\"Year\"] >= year) & (df_rate[\"Year\"] < 2018), \"Ave\"] \n",
    "    # Convert to percent and add 1\n",
    "    df_temp = df_temp / 100 + 1\n",
    "    return np.prod(df_temp)"
   ]
  },
  {
   "cell_type": "code",
   "execution_count": 346,
   "metadata": {},
   "outputs": [],
   "source": [
    "# Adjust the monetary columns\n",
    "factor = df_main[\"release_date\"].apply(lambda x: inflation_adjust(x.year))\n",
    "df_main[[\"a_budget_musd\", \"a_revenue_musd\", \"a_profit_musd\", \"a_roi\"]] = df_main[[\"budget_musd\", \"revenue_musd\", \"profit_musd\", \"roi\"]].multiply(factor, axis=0)"
   ]
  },
  {
   "cell_type": "code",
   "execution_count": 347,
   "metadata": {},
   "outputs": [
    {
     "data": {
      "text/html": [
       "<table border=\"1\" class=\"dataframe\">\n",
       "  <thead>\n",
       "    <tr style=\"text-align: right;\">\n",
       "      <th></th>\n",
       "      <th>poster_path</th>\n",
       "      <th>title</th>\n",
       "      <th>a_revenue_musd</th>\n",
       "      <th>revenue_musd</th>\n",
       "      <th>release_date</th>\n",
       "      <th>production_companies</th>\n",
       "    </tr>\n",
       "  </thead>\n",
       "  <tbody>\n",
       "    <tr>\n",
       "      <th>884</th>\n",
       "      <td><img src='http://image.tmdb.org/t/p/w185//pDXbS9V8ZoF7oiL4LUL5U31T1B5.jpg' style='height:100px;'></td>\n",
       "      <td>Gone with the Wind</td>\n",
       "      <td>6953.28</td>\n",
       "      <td>400.18</td>\n",
       "      <td>1939-12-15</td>\n",
       "      <td>Selznick International Pictures|Metro-Goldwyn-Mayer (MGM)</td>\n",
       "    </tr>\n",
       "    <tr>\n",
       "      <th>994</th>\n",
       "      <td><img src='http://image.tmdb.org/t/p/w185//1cbF3s99hCQcFdWG8hrGhKSBles.jpg' style='height:100px;'></td>\n",
       "      <td>Alice in Wonderland</td>\n",
       "      <td>5809.63</td>\n",
       "      <td>572.00</td>\n",
       "      <td>1951-07-03</td>\n",
       "      <td>RKO Radio Pictures|Walt Disney Productions</td>\n",
       "    </tr>\n",
       "    <tr>\n",
       "      <th>1887</th>\n",
       "      <td><img src='http://image.tmdb.org/t/p/w185//wV9e2y4myJ4KMFsyFfWYcUOawyK.jpg' style='height:100px;'></td>\n",
       "      <td>Bambi</td>\n",
       "      <td>4457.39</td>\n",
       "      <td>267.45</td>\n",
       "      <td>1942-08-14</td>\n",
       "      <td>Walt Disney Productions</td>\n",
       "    </tr>\n",
       "    <tr>\n",
       "      <th>255</th>\n",
       "      <td><img src='http://image.tmdb.org/t/p/w185//6FfCtAuVAW8XJjZ7eWeLibRLWTw.jpg' style='height:100px;'></td>\n",
       "      <td>Star Wars</td>\n",
       "      <td>3339.33</td>\n",
       "      <td>775.40</td>\n",
       "      <td>1977-05-25</td>\n",
       "      <td>Lucasfilm|Twentieth Century Fox Film Corporation</td>\n",
       "    </tr>\n",
       "    <tr>\n",
       "      <th>585</th>\n",
       "      <td><img src='http://image.tmdb.org/t/p/w185//b43jrEguirXjtAVgXMiTvs8wUhC.jpg' style='height:100px;'></td>\n",
       "      <td>Snow White and the Seven Dwarfs</td>\n",
       "      <td>3258.95</td>\n",
       "      <td>184.93</td>\n",
       "      <td>1937-12-20</td>\n",
       "      <td>Walt Disney Productions</td>\n",
       "    </tr>\n",
       "  </tbody>\n",
       "</table>"
      ],
      "text/plain": [
       "<IPython.core.display.HTML object>"
      ]
     },
     "execution_count": 347,
     "metadata": {},
     "output_type": "execute_result"
    }
   ],
   "source": [
    "# Top 5 - Highest Adjusted Revenue\n",
    "filter_result(\"a_revenue_musd\", ascending=False, add_col=[\"revenue_musd\", \"release_date\", \"production_companies\"])"
   ]
  },
  {
   "cell_type": "markdown",
   "metadata": {},
   "source": [
    "We obtained entirely different findings when considering adjusted revenue. Among the five movies examined from 1915 to 2917, three are Walt Disney's productions."
   ]
  },
  {
   "cell_type": "markdown",
   "metadata": {},
   "source": [
    "__Movies Top 5 - Highest Budget__"
   ]
  },
  {
   "cell_type": "code",
   "execution_count": 348,
   "metadata": {},
   "outputs": [
    {
     "data": {
      "text/html": [
       "<table border=\"1\" class=\"dataframe\">\n",
       "  <thead>\n",
       "    <tr style=\"text-align: right;\">\n",
       "      <th></th>\n",
       "      <th>poster_path</th>\n",
       "      <th>title</th>\n",
       "      <th>budget_musd</th>\n",
       "      <th>release_date</th>\n",
       "    </tr>\n",
       "  </thead>\n",
       "  <tbody>\n",
       "    <tr>\n",
       "      <th>16986</th>\n",
       "      <td><img src='http://image.tmdb.org/t/p/w185//keGfSvCmYj7CvdRx36OdVrAEibE.jpg' style='height:100px;'></td>\n",
       "      <td>Pirates of the Caribbean: On Stranger Tides</td>\n",
       "      <td>380.00</td>\n",
       "      <td>2011-05-14</td>\n",
       "    </tr>\n",
       "    <tr>\n",
       "      <th>11743</th>\n",
       "      <td><img src='http://image.tmdb.org/t/p/w185//oVh3REsCwJwmrTkZ9OkkeKiAE02.jpg' style='height:100px;'></td>\n",
       "      <td>Pirates of the Caribbean: At World's End</td>\n",
       "      <td>300.00</td>\n",
       "      <td>2007-05-19</td>\n",
       "    </tr>\n",
       "    <tr>\n",
       "      <th>26268</th>\n",
       "      <td><img src='http://image.tmdb.org/t/p/w185//4ssDuvEDkSArWEdyBl2X5EHvYKU.jpg' style='height:100px;'></td>\n",
       "      <td>Avengers: Age of Ultron</td>\n",
       "      <td>280.00</td>\n",
       "      <td>2015-04-22</td>\n",
       "    </tr>\n",
       "    <tr>\n",
       "      <th>10985</th>\n",
       "      <td><img src='http://image.tmdb.org/t/p/w185//6ZYOpyhFZrAQIe1BuhqVgzfAdGZ.jpg' style='height:100px;'></td>\n",
       "      <td>Superman Returns</td>\n",
       "      <td>270.00</td>\n",
       "      <td>2006-06-28</td>\n",
       "    </tr>\n",
       "    <tr>\n",
       "      <th>16006</th>\n",
       "      <td><img src='http://image.tmdb.org/t/p/w185//1uPxRO0iYwW02lzwatRhkugWBYs.jpg' style='height:100px;'></td>\n",
       "      <td>Tangled</td>\n",
       "      <td>260.00</td>\n",
       "      <td>2010-11-24</td>\n",
       "    </tr>\n",
       "  </tbody>\n",
       "</table>"
      ],
      "text/plain": [
       "<IPython.core.display.HTML object>"
      ]
     },
     "execution_count": 348,
     "metadata": {},
     "output_type": "execute_result"
    }
   ],
   "source": [
    "filter_result(\"budget_musd\", ascending=False, add_col=[\"release_date\"])"
   ]
  },
  {
   "cell_type": "code",
   "execution_count": 349,
   "metadata": {},
   "outputs": [
    {
     "data": {
      "text/html": [
       "<table border=\"1\" class=\"dataframe\">\n",
       "  <thead>\n",
       "    <tr style=\"text-align: right;\">\n",
       "      <th></th>\n",
       "      <th>poster_path</th>\n",
       "      <th>title</th>\n",
       "      <th>a_budget_musd</th>\n",
       "      <th>budget_musd</th>\n",
       "      <th>release_date</th>\n",
       "    </tr>\n",
       "  </thead>\n",
       "  <tbody>\n",
       "    <tr>\n",
       "      <th>1879</th>\n",
       "      <td><img src='http://image.tmdb.org/t/p/w185//3F5OKhpC6rqq5KdjgixNbqjWSWz.jpg' style='height:100px;'></td>\n",
       "      <td>Metropolis</td>\n",
       "      <td>1282.32</td>\n",
       "      <td>92.62</td>\n",
       "      <td>1927-01-10</td>\n",
       "    </tr>\n",
       "    <tr>\n",
       "      <th>1212</th>\n",
       "      <td><img src='http://image.tmdb.org/t/p/w185//h0mkK00GjBCJoBYm3yvPdkzlIyV.jpg' style='height:100px;'></td>\n",
       "      <td>The Manchurian Candidate</td>\n",
       "      <td>655.64</td>\n",
       "      <td>80.00</td>\n",
       "      <td>1962-10-24</td>\n",
       "    </tr>\n",
       "    <tr>\n",
       "      <th>16986</th>\n",
       "      <td><img src='http://image.tmdb.org/t/p/w185//keGfSvCmYj7CvdRx36OdVrAEibE.jpg' style='height:100px;'></td>\n",
       "      <td>Pirates of the Caribbean: On Stranger Tides</td>\n",
       "      <td>427.48</td>\n",
       "      <td>380.00</td>\n",
       "      <td>2011-05-14</td>\n",
       "    </tr>\n",
       "    <tr>\n",
       "      <th>11743</th>\n",
       "      <td><img src='http://image.tmdb.org/t/p/w185//oVh3REsCwJwmrTkZ9OkkeKiAE02.jpg' style='height:100px;'></td>\n",
       "      <td>Pirates of the Caribbean: At World's End</td>\n",
       "      <td>364.42</td>\n",
       "      <td>300.00</td>\n",
       "      <td>2007-05-19</td>\n",
       "    </tr>\n",
       "    <tr>\n",
       "      <th>10985</th>\n",
       "      <td><img src='http://image.tmdb.org/t/p/w185//6ZYOpyhFZrAQIe1BuhqVgzfAdGZ.jpg' style='height:100px;'></td>\n",
       "      <td>Superman Returns</td>\n",
       "      <td>338.47</td>\n",
       "      <td>270.00</td>\n",
       "      <td>2006-06-28</td>\n",
       "    </tr>\n",
       "  </tbody>\n",
       "</table>"
      ],
      "text/plain": [
       "<IPython.core.display.HTML object>"
      ]
     },
     "execution_count": 349,
     "metadata": {},
     "output_type": "execute_result"
    }
   ],
   "source": [
    "filter_result(\"a_budget_musd\", ascending=False, add_col=[\"budget_musd\", \"release_date\"])"
   ]
  },
  {
   "cell_type": "markdown",
   "metadata": {},
   "source": [
    "Regardless of whether adjustments were made or not, science fiction films consistently emerge as the highest-cost productions."
   ]
  },
  {
   "cell_type": "markdown",
   "metadata": {},
   "source": [
    "__Movies Top 5 - Highest Profit__"
   ]
  },
  {
   "cell_type": "code",
   "execution_count": 350,
   "metadata": {},
   "outputs": [
    {
     "data": {
      "text/html": [
       "<table border=\"1\" class=\"dataframe\">\n",
       "  <thead>\n",
       "    <tr style=\"text-align: right;\">\n",
       "      <th></th>\n",
       "      <th>poster_path</th>\n",
       "      <th>title</th>\n",
       "      <th>profit_musd</th>\n",
       "      <th>release_date</th>\n",
       "    </tr>\n",
       "  </thead>\n",
       "  <tbody>\n",
       "    <tr>\n",
       "      <th>14448</th>\n",
       "      <td><img src='http://image.tmdb.org/t/p/w185//btnl50ZDJDSCal2NLQIYWw0XxvH.jpg' style='height:100px;'></td>\n",
       "      <td>Avatar</td>\n",
       "      <td>2550.97</td>\n",
       "      <td>2009-12-10</td>\n",
       "    </tr>\n",
       "    <tr>\n",
       "      <th>26265</th>\n",
       "      <td><img src='http://image.tmdb.org/t/p/w185//9rd002JS49RwDW944fF1wjU8iTV.jpg' style='height:100px;'></td>\n",
       "      <td>Star Wars: The Force Awakens</td>\n",
       "      <td>1823.22</td>\n",
       "      <td>2015-12-15</td>\n",
       "    </tr>\n",
       "    <tr>\n",
       "      <th>1620</th>\n",
       "      <td><img src='http://image.tmdb.org/t/p/w185//9xjZS2rlVxm8SFx8kPC3aIGCOYQ.jpg' style='height:100px;'></td>\n",
       "      <td>Titanic</td>\n",
       "      <td>1645.03</td>\n",
       "      <td>1997-11-18</td>\n",
       "    </tr>\n",
       "    <tr>\n",
       "      <th>24812</th>\n",
       "      <td><img src='http://image.tmdb.org/t/p/w185//rhr4y79GpxQF9IsfJItRXVaoGs4.jpg' style='height:100px;'></td>\n",
       "      <td>Jurassic World</td>\n",
       "      <td>1363.53</td>\n",
       "      <td>2015-06-09</td>\n",
       "    </tr>\n",
       "    <tr>\n",
       "      <th>28501</th>\n",
       "      <td><img src='http://image.tmdb.org/t/p/w185//d9jZ2bKZw3ptTuxAyVHA6olPAVs.jpg' style='height:100px;'></td>\n",
       "      <td>Furious 7</td>\n",
       "      <td>1316.25</td>\n",
       "      <td>2015-04-01</td>\n",
       "    </tr>\n",
       "  </tbody>\n",
       "</table>"
      ],
      "text/plain": [
       "<IPython.core.display.HTML object>"
      ]
     },
     "execution_count": 350,
     "metadata": {},
     "output_type": "execute_result"
    }
   ],
   "source": [
    "filter_result(\"profit_musd\", ascending=False, add_col=[\"release_date\"])"
   ]
  },
  {
   "cell_type": "code",
   "execution_count": 351,
   "metadata": {},
   "outputs": [
    {
     "data": {
      "text/html": [
       "<table border=\"1\" class=\"dataframe\">\n",
       "  <thead>\n",
       "    <tr style=\"text-align: right;\">\n",
       "      <th></th>\n",
       "      <th>poster_path</th>\n",
       "      <th>title</th>\n",
       "      <th>a_profit_musd</th>\n",
       "      <th>profit_musd</th>\n",
       "      <th>release_date</th>\n",
       "    </tr>\n",
       "  </thead>\n",
       "  <tbody>\n",
       "    <tr>\n",
       "      <th>884</th>\n",
       "      <td><img src='http://image.tmdb.org/t/p/w185//pDXbS9V8ZoF7oiL4LUL5U31T1B5.jpg' style='height:100px;'></td>\n",
       "      <td>Gone with the Wind</td>\n",
       "      <td>6883.78</td>\n",
       "      <td>396.18</td>\n",
       "      <td>1939-12-15</td>\n",
       "    </tr>\n",
       "    <tr>\n",
       "      <th>994</th>\n",
       "      <td><img src='http://image.tmdb.org/t/p/w185//1cbF3s99hCQcFdWG8hrGhKSBles.jpg' style='height:100px;'></td>\n",
       "      <td>Alice in Wonderland</td>\n",
       "      <td>5779.16</td>\n",
       "      <td>569.00</td>\n",
       "      <td>1951-07-03</td>\n",
       "    </tr>\n",
       "    <tr>\n",
       "      <th>1887</th>\n",
       "      <td><img src='http://image.tmdb.org/t/p/w185//wV9e2y4myJ4KMFsyFfWYcUOawyK.jpg' style='height:100px;'></td>\n",
       "      <td>Bambi</td>\n",
       "      <td>4443.09</td>\n",
       "      <td>266.59</td>\n",
       "      <td>1942-08-14</td>\n",
       "    </tr>\n",
       "    <tr>\n",
       "      <th>255</th>\n",
       "      <td><img src='http://image.tmdb.org/t/p/w185//6FfCtAuVAW8XJjZ7eWeLibRLWTw.jpg' style='height:100px;'></td>\n",
       "      <td>Star Wars</td>\n",
       "      <td>3291.96</td>\n",
       "      <td>764.40</td>\n",
       "      <td>1977-05-25</td>\n",
       "    </tr>\n",
       "    <tr>\n",
       "      <th>585</th>\n",
       "      <td><img src='http://image.tmdb.org/t/p/w185//b43jrEguirXjtAVgXMiTvs8wUhC.jpg' style='height:100px;'></td>\n",
       "      <td>Snow White and the Seven Dwarfs</td>\n",
       "      <td>3232.72</td>\n",
       "      <td>183.44</td>\n",
       "      <td>1937-12-20</td>\n",
       "    </tr>\n",
       "  </tbody>\n",
       "</table>"
      ],
      "text/plain": [
       "<IPython.core.display.HTML object>"
      ]
     },
     "execution_count": 351,
     "metadata": {},
     "output_type": "execute_result"
    }
   ],
   "source": [
    "filter_result(\"a_profit_musd\", ascending=False, add_col=[\"profit_musd\", \"release_date\"])"
   ]
  },
  {
   "cell_type": "markdown",
   "metadata": {},
   "source": [
    "The raw profit figures suggest that science fiction and superhero films typically yield higher profits and draw larger audiences, particularly evident in the 20th century due to advancements in movie effects. However, when considering adjusted profit results, animated movies, predominantly cartoons, emerge as the top earners, likely due to their capacity to showcase impressive visual effects through animation."
   ]
  },
  {
   "cell_type": "markdown",
   "metadata": {},
   "source": [
    "__Movies Top 5 - Highest ROI__"
   ]
  },
  {
   "cell_type": "code",
   "execution_count": 352,
   "metadata": {},
   "outputs": [
    {
     "data": {
      "text/html": [
       "<table border=\"1\" class=\"dataframe\">\n",
       "  <thead>\n",
       "    <tr style=\"text-align: right;\">\n",
       "      <th></th>\n",
       "      <th>poster_path</th>\n",
       "      <th>title</th>\n",
       "      <th>roi</th>\n",
       "      <th>release_date</th>\n",
       "      <th>budget_musd</th>\n",
       "    </tr>\n",
       "  </thead>\n",
       "  <tbody>\n",
       "    <tr>\n",
       "      <th>3965</th>\n",
       "      <td><img src='http://image.tmdb.org/t/p/w185//1GY0ZhAxOR2RgxGnOkeKoKb2mFM.jpg' style='height:100px;'></td>\n",
       "      <td>Less Than Zero</td>\n",
       "      <td>12396383.00</td>\n",
       "      <td>1987-11-06</td>\n",
       "      <td>0.00</td>\n",
       "    </tr>\n",
       "    <tr>\n",
       "      <th>3312</th>\n",
       "      <td><img src='http://image.tmdb.org/t/p/w185//7uoiKOEjxBBW0AgDGQWrlfGQ90w.jpg' style='height:100px;'></td>\n",
       "      <td>Modern Times</td>\n",
       "      <td>8500000.00</td>\n",
       "      <td>1936-02-05</td>\n",
       "      <td>0.00</td>\n",
       "    </tr>\n",
       "    <tr>\n",
       "      <th>14270</th>\n",
       "      <td><img src='http://image.tmdb.org/t/p/w185//5iGVw8AdnUJ3xNaZ5iipfsv2e5.jpg' style='height:100px;'></td>\n",
       "      <td>Welcome to Dongmakgol</td>\n",
       "      <td>4197476.62</td>\n",
       "      <td>2005-08-04</td>\n",
       "      <td>0.00</td>\n",
       "    </tr>\n",
       "    <tr>\n",
       "      <th>22041</th>\n",
       "      <td><img src='http://image.tmdb.org/t/p/w185//oflxxk94TjmjMdotXnajh64iMad.jpg' style='height:100px;'></td>\n",
       "      <td>Aquí Entre Nos</td>\n",
       "      <td>2755584.00</td>\n",
       "      <td>2012-03-30</td>\n",
       "      <td>0.00</td>\n",
       "    </tr>\n",
       "    <tr>\n",
       "      <th>2284</th>\n",
       "      <td><img src='http://image.tmdb.org/t/p/w185//mSne9mfUcL8QCGxF891LWa7lZNI.jpg' style='height:100px;'></td>\n",
       "      <td>The Karate Kid, Part II</td>\n",
       "      <td>1018619.28</td>\n",
       "      <td>1986-06-18</td>\n",
       "      <td>0.00</td>\n",
       "    </tr>\n",
       "  </tbody>\n",
       "</table>"
      ],
      "text/plain": [
       "<IPython.core.display.HTML object>"
      ]
     },
     "execution_count": 352,
     "metadata": {},
     "output_type": "execute_result"
    }
   ],
   "source": [
    "filter_result(\"roi\", ascending=False, add_col=[\"release_date\", \"budget_musd\"])"
   ]
  },
  {
   "cell_type": "markdown",
   "metadata": {},
   "source": [
    "The exceptionally high rate of return indicates a potential anomaly in the outcome. The ROI is computed by dividing by absent budget values. To ensure reliability, we ought to focus solely on movies with budgets ranking within at least the 25th percentile of the budget column."
   ]
  },
  {
   "cell_type": "code",
   "execution_count": 353,
   "metadata": {},
   "outputs": [
    {
     "data": {
      "text/html": [
       "<table border=\"1\" class=\"dataframe\">\n",
       "  <thead>\n",
       "    <tr style=\"text-align: right;\">\n",
       "      <th></th>\n",
       "      <th>poster_path</th>\n",
       "      <th>title</th>\n",
       "      <th>roi</th>\n",
       "      <th>release_date</th>\n",
       "      <th>budget_musd</th>\n",
       "    </tr>\n",
       "  </thead>\n",
       "  <tbody>\n",
       "    <tr>\n",
       "      <th>1055</th>\n",
       "      <td><img src='http://image.tmdb.org/t/p/w185//cBfkE3HSH1NOyy1ftxlPw2l3ukb.jpg' style='height:100px;'></td>\n",
       "      <td>E.T. the Extra-Terrestrial</td>\n",
       "      <td>75.52</td>\n",
       "      <td>1982-04-03</td>\n",
       "      <td>10.50</td>\n",
       "    </tr>\n",
       "    <tr>\n",
       "      <th>255</th>\n",
       "      <td><img src='http://image.tmdb.org/t/p/w185//6FfCtAuVAW8XJjZ7eWeLibRLWTw.jpg' style='height:100px;'></td>\n",
       "      <td>Star Wars</td>\n",
       "      <td>70.49</td>\n",
       "      <td>1977-05-25</td>\n",
       "      <td>11.00</td>\n",
       "    </tr>\n",
       "    <tr>\n",
       "      <th>1327</th>\n",
       "      <td><img src='http://image.tmdb.org/t/p/w185//s2xcqSFfT6F7ZXHxowjxfG0yisT.jpg' style='height:100px;'></td>\n",
       "      <td>Jaws</td>\n",
       "      <td>67.24</td>\n",
       "      <td>1975-06-18</td>\n",
       "      <td>7.00</td>\n",
       "    </tr>\n",
       "    <tr>\n",
       "      <th>1866</th>\n",
       "      <td><img src='http://image.tmdb.org/t/p/w185//4ucLGcXVVSVnsfkGtbLY4XAius8.jpg' style='height:100px;'></td>\n",
       "      <td>The Exorcist</td>\n",
       "      <td>55.16</td>\n",
       "      <td>1973-12-26</td>\n",
       "      <td>8.00</td>\n",
       "    </tr>\n",
       "    <tr>\n",
       "      <th>351</th>\n",
       "      <td><img src='http://image.tmdb.org/t/p/w185//qa72G2VS0bpxms6yo0tI9vsHm2e.jpg' style='height:100px;'></td>\n",
       "      <td>Four Weddings and a Funeral</td>\n",
       "      <td>42.45</td>\n",
       "      <td>1994-03-09</td>\n",
       "      <td>6.00</td>\n",
       "    </tr>\n",
       "  </tbody>\n",
       "</table>"
      ],
      "text/plain": [
       "<IPython.core.display.HTML object>"
      ]
     },
     "execution_count": 353,
     "metadata": {},
     "output_type": "execute_result"
    }
   ],
   "source": [
    "# Add threshold of 25 percentile \n",
    "budget_threshold = df_main[\"budget_musd\"].describe()[\"25%\"]\n",
    "filter = df_main[\"budget_musd\"] >= budget_threshold\n",
    "filter_result(\"roi\", ascending=False, add_col=[\"release_date\", \"budget_musd\"], filter=filter)\n",
    "\n",
    "# def filter_result(col, df=df_main, ascending=True, n_rows=5, col_display=[\"poster_path\", \"title\"], \n",
    "#                  filter=None, add_col=[]):"
   ]
  },
  {
   "cell_type": "markdown",
   "metadata": {},
   "source": [
    "Only one of the films ranking highest in terms of return on investment appear on the list of top-profit movies. This observation suggests that films generating high profits often involve substantial investment in captivating effects, leading to increased costs. Achieving a balance between production expenses and maintaining quality content typically yields a better return on investment.\n",
    "\n",
    "Star Wars: Episode IV - A New Hope, released in 1977 revolutionized the use of special effects in cinema, introducing groundbreaking techniques and technologies that were previously unseen. Consequently, it garnered significant attention from audiences. However, contemporary film effects have evolved to surpass those of Star Wars, becoming more of an industry standard rather than a groundbreaking novelty. Moreover, in today's inflated economy, production costs have escalated, making it increasingly challenging for movies from the 20th century to achieve high rates of return."
   ]
  },
  {
   "cell_type": "code",
   "execution_count": null,
   "metadata": {},
   "outputs": [],
   "source": []
  }
 ],
 "metadata": {
  "kernelspec": {
   "display_name": "Python 3 (ipykernel)",
   "language": "python",
   "name": "python3"
  },
  "language_info": {
   "codemirror_mode": {
    "name": "ipython",
    "version": 3
   },
   "file_extension": ".py",
   "mimetype": "text/x-python",
   "name": "python",
   "nbconvert_exporter": "python",
   "pygments_lexer": "ipython3",
   "version": "3.11.8"
  }
 },
 "nbformat": 4,
 "nbformat_minor": 4
}
