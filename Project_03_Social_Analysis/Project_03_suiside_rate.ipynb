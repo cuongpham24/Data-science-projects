{
 "cells": [
  {
   "cell_type": "markdown",
   "metadata": {},
   "source": [
    "# Suiside Rate Analysis\n",
    "\n",
    "**Objecttive:**"
   ]
  },
  {
   "cell_type": "markdown",
   "metadata": {},
   "source": [
    "## Import Libraries"
   ]
  },
  {
   "cell_type": "code",
   "execution_count": 1,
   "metadata": {},
   "outputs": [],
   "source": [
    "import numpy as np\n",
    "import pandas as pd\n",
    "import seaborn as sns \n",
    "import matplotlib.pyplot as plt\n",
    "import warnings\n",
    "warnings.filterwarnings(\"ignore\")"
   ]
  },
  {
   "cell_type": "markdown",
   "metadata": {},
   "source": [
    "## Data Exploratory\n",
    "\n",
    "**About Dataset** [Suicide Rates from 1990 to 2022](https://www.kaggle.com/datasets/ronaldonyango/global-suicide-rates-1990-to-2022)\n"
   ]
  },
  {
   "cell_type": "code",
   "execution_count": 2,
   "metadata": {},
   "outputs": [],
   "source": [
    "df = pd.read_csv(\"./suicide_rates_1990-2022.csv\")"
   ]
  },
  {
   "cell_type": "markdown",
   "metadata": {},
   "source": [
    "We'll gather statistics for each column, distinguishing between two types: numeric and categorical"
   ]
  },
  {
   "cell_type": "code",
   "execution_count": 3,
   "metadata": {},
   "outputs": [
    {
     "data": {
      "text/html": [
       "<div>\n",
       "<style scoped>\n",
       "    .dataframe tbody tr th:only-of-type {\n",
       "        vertical-align: middle;\n",
       "    }\n",
       "\n",
       "    .dataframe tbody tr th {\n",
       "        vertical-align: top;\n",
       "    }\n",
       "\n",
       "    .dataframe thead th {\n",
       "        text-align: right;\n",
       "    }\n",
       "</style>\n",
       "<table border=\"1\" class=\"dataframe\">\n",
       "  <thead>\n",
       "    <tr style=\"text-align: right;\">\n",
       "      <th></th>\n",
       "      <th>Data Type</th>\n",
       "      <th>Count</th>\n",
       "      <th>Missing (%)</th>\n",
       "      <th>Uniques</th>\n",
       "      <th>Min</th>\n",
       "      <th>50%</th>\n",
       "      <th>Max</th>\n",
       "      <th>Mean</th>\n",
       "      <th>Stdv</th>\n",
       "    </tr>\n",
       "  </thead>\n",
       "  <tbody>\n",
       "    <tr>\n",
       "      <th>RegionCode</th>\n",
       "      <td>object</td>\n",
       "      <td>118560</td>\n",
       "      <td>0.00</td>\n",
       "      <td>6</td>\n",
       "      <td>NaN</td>\n",
       "      <td>NaN</td>\n",
       "      <td>NaN</td>\n",
       "      <td>NaN</td>\n",
       "      <td>NaN</td>\n",
       "    </tr>\n",
       "    <tr>\n",
       "      <th>RegionName</th>\n",
       "      <td>object</td>\n",
       "      <td>118560</td>\n",
       "      <td>0.00</td>\n",
       "      <td>6</td>\n",
       "      <td>NaN</td>\n",
       "      <td>NaN</td>\n",
       "      <td>NaN</td>\n",
       "      <td>NaN</td>\n",
       "      <td>NaN</td>\n",
       "    </tr>\n",
       "    <tr>\n",
       "      <th>CountryCode</th>\n",
       "      <td>object</td>\n",
       "      <td>118560</td>\n",
       "      <td>0.00</td>\n",
       "      <td>117</td>\n",
       "      <td>NaN</td>\n",
       "      <td>NaN</td>\n",
       "      <td>NaN</td>\n",
       "      <td>NaN</td>\n",
       "      <td>NaN</td>\n",
       "    </tr>\n",
       "    <tr>\n",
       "      <th>CountryName</th>\n",
       "      <td>object</td>\n",
       "      <td>118560</td>\n",
       "      <td>0.00</td>\n",
       "      <td>117</td>\n",
       "      <td>NaN</td>\n",
       "      <td>NaN</td>\n",
       "      <td>NaN</td>\n",
       "      <td>NaN</td>\n",
       "      <td>NaN</td>\n",
       "    </tr>\n",
       "    <tr>\n",
       "      <th>Year</th>\n",
       "      <td>int64</td>\n",
       "      <td>118560</td>\n",
       "      <td>0.00</td>\n",
       "      <td>33</td>\n",
       "      <td>1990.0</td>\n",
       "      <td>2006.0</td>\n",
       "      <td>2022.0</td>\n",
       "      <td>2005.740047</td>\n",
       "      <td>8.745003</td>\n",
       "    </tr>\n",
       "    <tr>\n",
       "      <th>Sex</th>\n",
       "      <td>object</td>\n",
       "      <td>118560</td>\n",
       "      <td>0.00</td>\n",
       "      <td>3</td>\n",
       "      <td>NaN</td>\n",
       "      <td>NaN</td>\n",
       "      <td>NaN</td>\n",
       "      <td>NaN</td>\n",
       "      <td>NaN</td>\n",
       "    </tr>\n",
       "    <tr>\n",
       "      <th>AgeGroup</th>\n",
       "      <td>object</td>\n",
       "      <td>118560</td>\n",
       "      <td>0.00</td>\n",
       "      <td>7</td>\n",
       "      <td>NaN</td>\n",
       "      <td>NaN</td>\n",
       "      <td>NaN</td>\n",
       "      <td>NaN</td>\n",
       "      <td>NaN</td>\n",
       "    </tr>\n",
       "    <tr>\n",
       "      <th>Generation</th>\n",
       "      <td>object</td>\n",
       "      <td>118560</td>\n",
       "      <td>0.00</td>\n",
       "      <td>7</td>\n",
       "      <td>NaN</td>\n",
       "      <td>NaN</td>\n",
       "      <td>NaN</td>\n",
       "      <td>NaN</td>\n",
       "      <td>NaN</td>\n",
       "    </tr>\n",
       "    <tr>\n",
       "      <th>SuicideCount</th>\n",
       "      <td>float64</td>\n",
       "      <td>118096</td>\n",
       "      <td>0.39</td>\n",
       "      <td>1868</td>\n",
       "      <td>0.0</td>\n",
       "      <td>4.0</td>\n",
       "      <td>6787.0</td>\n",
       "      <td>63.632037</td>\n",
       "      <td>254.095408</td>\n",
       "    </tr>\n",
       "    <tr>\n",
       "      <th>CauseSpecificDeathPercentage</th>\n",
       "      <td>float64</td>\n",
       "      <td>114271</td>\n",
       "      <td>3.62</td>\n",
       "      <td>46425</td>\n",
       "      <td>0.0</td>\n",
       "      <td>0.586166</td>\n",
       "      <td>100.0</td>\n",
       "      <td>3.87369</td>\n",
       "      <td>7.31782</td>\n",
       "    </tr>\n",
       "    <tr>\n",
       "      <th>DeathRatePer100K</th>\n",
       "      <td>float64</td>\n",
       "      <td>107896</td>\n",
       "      <td>8.99</td>\n",
       "      <td>70961</td>\n",
       "      <td>0.0</td>\n",
       "      <td>4.452366</td>\n",
       "      <td>502.512563</td>\n",
       "      <td>12.299791</td>\n",
       "      <td>21.01617</td>\n",
       "    </tr>\n",
       "    <tr>\n",
       "      <th>Population</th>\n",
       "      <td>float64</td>\n",
       "      <td>112640</td>\n",
       "      <td>4.99</td>\n",
       "      <td>2766</td>\n",
       "      <td>40542.0</td>\n",
       "      <td>6888434.5</td>\n",
       "      <td>332031554.0</td>\n",
       "      <td>24561843.027344</td>\n",
       "      <td>45311558.153631</td>\n",
       "    </tr>\n",
       "    <tr>\n",
       "      <th>GDP</th>\n",
       "      <td>float64</td>\n",
       "      <td>111320</td>\n",
       "      <td>6.11</td>\n",
       "      <td>2735</td>\n",
       "      <td>219762963.0</td>\n",
       "      <td>62682159338.0</td>\n",
       "      <td>23315100000000.0</td>\n",
       "      <td>488335127674.531372</td>\n",
       "      <td>1653251709667.067627</td>\n",
       "    </tr>\n",
       "    <tr>\n",
       "      <th>GDPPerCapita</th>\n",
       "      <td>float64</td>\n",
       "      <td>111320</td>\n",
       "      <td>6.11</td>\n",
       "      <td>2735</td>\n",
       "      <td>60.235121</td>\n",
       "      <td>9708.141348</td>\n",
       "      <td>133711.7944</td>\n",
       "      <td>17423.508254</td>\n",
       "      <td>19332.136111</td>\n",
       "    </tr>\n",
       "    <tr>\n",
       "      <th>GrossNationalIncome</th>\n",
       "      <td>float64</td>\n",
       "      <td>108600</td>\n",
       "      <td>8.40</td>\n",
       "      <td>2665</td>\n",
       "      <td>208283229.9</td>\n",
       "      <td>59877146874.0</td>\n",
       "      <td>23705300000000.0</td>\n",
       "      <td>497679509772.376709</td>\n",
       "      <td>1689590791676.288574</td>\n",
       "    </tr>\n",
       "    <tr>\n",
       "      <th>GNIPerCapita</th>\n",
       "      <td>float64</td>\n",
       "      <td>107800</td>\n",
       "      <td>9.08</td>\n",
       "      <td>1999</td>\n",
       "      <td>780.0</td>\n",
       "      <td>16150.0</td>\n",
       "      <td>152630.0</td>\n",
       "      <td>22147.217069</td>\n",
       "      <td>18886.398425</td>\n",
       "    </tr>\n",
       "    <tr>\n",
       "      <th>InflationRate</th>\n",
       "      <td>float64</td>\n",
       "      <td>104100</td>\n",
       "      <td>12.20</td>\n",
       "      <td>2566</td>\n",
       "      <td>-10.630097</td>\n",
       "      <td>3.038888</td>\n",
       "      <td>4734.914347</td>\n",
       "      <td>20.286455</td>\n",
       "      <td>163.099904</td>\n",
       "    </tr>\n",
       "    <tr>\n",
       "      <th>EmploymentPopulationRatio</th>\n",
       "      <td>float64</td>\n",
       "      <td>107440</td>\n",
       "      <td>9.38</td>\n",
       "      <td>2502</td>\n",
       "      <td>32.026</td>\n",
       "      <td>56.021</td>\n",
       "      <td>87.518</td>\n",
       "      <td>55.750811</td>\n",
       "      <td>8.140994</td>\n",
       "    </tr>\n",
       "  </tbody>\n",
       "</table>\n",
       "</div>"
      ],
      "text/plain": [
       "                             Data Type   Count  Missing (%)  Uniques  \\\n",
       "RegionCode                      object  118560         0.00        6   \n",
       "RegionName                      object  118560         0.00        6   \n",
       "CountryCode                     object  118560         0.00      117   \n",
       "CountryName                     object  118560         0.00      117   \n",
       "Year                             int64  118560         0.00       33   \n",
       "Sex                             object  118560         0.00        3   \n",
       "AgeGroup                        object  118560         0.00        7   \n",
       "Generation                      object  118560         0.00        7   \n",
       "SuicideCount                   float64  118096         0.39     1868   \n",
       "CauseSpecificDeathPercentage   float64  114271         3.62    46425   \n",
       "DeathRatePer100K               float64  107896         8.99    70961   \n",
       "Population                     float64  112640         4.99     2766   \n",
       "GDP                            float64  111320         6.11     2735   \n",
       "GDPPerCapita                   float64  111320         6.11     2735   \n",
       "GrossNationalIncome            float64  108600         8.40     2665   \n",
       "GNIPerCapita                   float64  107800         9.08     1999   \n",
       "InflationRate                  float64  104100        12.20     2566   \n",
       "EmploymentPopulationRatio      float64  107440         9.38     2502   \n",
       "\n",
       "                                      Min            50%               Max  \\\n",
       "RegionCode                            NaN            NaN               NaN   \n",
       "RegionName                            NaN            NaN               NaN   \n",
       "CountryCode                           NaN            NaN               NaN   \n",
       "CountryName                           NaN            NaN               NaN   \n",
       "Year                               1990.0         2006.0            2022.0   \n",
       "Sex                                   NaN            NaN               NaN   \n",
       "AgeGroup                              NaN            NaN               NaN   \n",
       "Generation                            NaN            NaN               NaN   \n",
       "SuicideCount                          0.0            4.0            6787.0   \n",
       "CauseSpecificDeathPercentage          0.0       0.586166             100.0   \n",
       "DeathRatePer100K                      0.0       4.452366        502.512563   \n",
       "Population                        40542.0      6888434.5       332031554.0   \n",
       "GDP                           219762963.0  62682159338.0  23315100000000.0   \n",
       "GDPPerCapita                    60.235121    9708.141348       133711.7944   \n",
       "GrossNationalIncome           208283229.9  59877146874.0  23705300000000.0   \n",
       "GNIPerCapita                        780.0        16150.0          152630.0   \n",
       "InflationRate                  -10.630097       3.038888       4734.914347   \n",
       "EmploymentPopulationRatio          32.026         56.021            87.518   \n",
       "\n",
       "                                             Mean                  Stdv  \n",
       "RegionCode                                    NaN                   NaN  \n",
       "RegionName                                    NaN                   NaN  \n",
       "CountryCode                                   NaN                   NaN  \n",
       "CountryName                                   NaN                   NaN  \n",
       "Year                                  2005.740047              8.745003  \n",
       "Sex                                           NaN                   NaN  \n",
       "AgeGroup                                      NaN                   NaN  \n",
       "Generation                                    NaN                   NaN  \n",
       "SuicideCount                            63.632037            254.095408  \n",
       "CauseSpecificDeathPercentage              3.87369               7.31782  \n",
       "DeathRatePer100K                        12.299791              21.01617  \n",
       "Population                        24561843.027344       45311558.153631  \n",
       "GDP                           488335127674.531372  1653251709667.067627  \n",
       "GDPPerCapita                         17423.508254          19332.136111  \n",
       "GrossNationalIncome           497679509772.376709  1689590791676.288574  \n",
       "GNIPerCapita                         22147.217069          18886.398425  \n",
       "InflationRate                           20.286455            163.099904  \n",
       "EmploymentPopulationRatio               55.750811              8.140994  "
      ]
     },
     "metadata": {},
     "output_type": "display_data"
    }
   ],
   "source": [
    "# Summarize data\n",
    "def df_stats(df):\n",
    "    table = pd.DataFrame(df.dtypes, columns=['Data Type'])\n",
    "    table['Count'] = df.count().values\n",
    "    table['Missing (%)'] = round((df.isna().sum()) / len(df) * 100, 2)\n",
    "    table['Uniques'] = df.nunique().values\n",
    "    desc = pd.DataFrame(df.describe(include='all').transpose())\n",
    "    table['Min'] = desc['min'].values\n",
    "    table['50%'] = desc['50%'].values\n",
    "    table['Max'] = desc['max'].values\n",
    "    table['Mean'] = desc['mean'].values\n",
    "    table['Stdv'] = desc['std'].values\n",
    "    display(table)\n",
    "\n",
    "df_stats(df)"
   ]
  },
  {
   "cell_type": "markdown",
   "metadata": {},
   "source": [
    "Remove any missing values present in the `SuicideCount` column as part of our analysis on suicide."
   ]
  },
  {
   "cell_type": "code",
   "execution_count": 4,
   "metadata": {},
   "outputs": [],
   "source": [
    "df.dropna(subset=[\"SuicideCount\"], inplace=True)"
   ]
  },
  {
   "cell_type": "code",
   "execution_count": 5,
   "metadata": {},
   "outputs": [],
   "source": [
    "# Numeric columns. The \"Year\" column is dropped for numeric columns\n",
    "df_num = df.select_dtypes(include=np.number).drop([\"Year\"], axis=1)\n",
    "# Categorical columns.\n",
    "df_cat = df.select_dtypes(exclude=np.number)"
   ]
  },
  {
   "cell_type": "markdown",
   "metadata": {},
   "source": [
    "### Correlation"
   ]
  },
  {
   "cell_type": "code",
   "execution_count": 6,
   "metadata": {},
   "outputs": [
    {
     "data": {
      "image/png": "[encoded data removed]",
      "text/plain": [
       "<Figure size 500x400 with 1 Axes>"
      ]
     },
     "metadata": {},
     "output_type": "display_data"
    }
   ],
   "source": [
    "corr_data = df_num.corr()[\"SuicideCount\"][1:].sort_values()\n",
    "\n",
    "plt.figure(figsize=(5, 4))\n",
    "sns.barplot(x=corr_data.values, y=corr_data.index, palette=\"viridis\");"
   ]
  },
  {
   "cell_type": "markdown",
   "metadata": {},
   "source": [
    "As depicted in the bar plot, it's evident that the `SuicideCount` doesn't exhibit a robust correlation with the other numerical attributes, as the correlation values span from 0 to less than 0.5. This suggests that the suicide rate isn't directly influenced by these numerical features but rather indirectly."
   ]
  },
  {
   "cell_type": "markdown",
   "metadata": {},
   "source": [
    "## Feature Analysis"
   ]
  },
  {
   "cell_type": "markdown",
   "metadata": {},
   "source": [
    "### Overall Trend in The World"
   ]
  },
  {
   "cell_type": "markdown",
   "metadata": {},
   "source": [
    "We aim to examine how the suicide rate fluctuates annually and analyze the trend of each feature in relation to the suicide rate.\n",
    "\n"
   ]
  },
  {
   "cell_type": "code",
   "execution_count": 7,
   "metadata": {},
   "outputs": [
    {
     "data": {
      "image/png": "[encoded data removed]",
      "text/plain": [
       "<Figure size 640x480 with 1 Axes>"
      ]
     },
     "metadata": {},
     "output_type": "display_data"
    }
   ],
   "source": [
    "sns.barplot(df.groupby(\"Year\")[\"SuicideCount\"].sum(), palette=\"viridis\")\n",
    "plt.xticks(rotation=90);"
   ]
  },
  {
   "cell_type": "markdown",
   "metadata": {},
   "source": [
    "The number of suicides in 2022 is notably lower compared to previous years. This could be attributed to data collection issues during that year. To mitigate bias in our analysis, we will exclude data from 2022."
   ]
  },
  {
   "cell_type": "code",
   "execution_count": 8,
   "metadata": {},
   "outputs": [
    {
     "data": {
      "text/html": [
       "<div>\n",
       "<style scoped>\n",
       "    .dataframe tbody tr th:only-of-type {\n",
       "        vertical-align: middle;\n",
       "    }\n",
       "\n",
       "    .dataframe tbody tr th {\n",
       "        vertical-align: top;\n",
       "    }\n",
       "\n",
       "    .dataframe thead th {\n",
       "        text-align: right;\n",
       "    }\n",
       "</style>\n",
       "<table border=\"1\" class=\"dataframe\">\n",
       "  <thead>\n",
       "    <tr style=\"text-align: right;\">\n",
       "      <th></th>\n",
       "      <th>Year</th>\n",
       "      <th>SuicideCount</th>\n",
       "    </tr>\n",
       "  </thead>\n",
       "  <tbody>\n",
       "    <tr>\n",
       "      <th>0</th>\n",
       "      <td>1990</td>\n",
       "      <td>207445.0</td>\n",
       "    </tr>\n",
       "    <tr>\n",
       "      <th>1</th>\n",
       "      <td>1991</td>\n",
       "      <td>207584.0</td>\n",
       "    </tr>\n",
       "    <tr>\n",
       "      <th>2</th>\n",
       "      <td>1992</td>\n",
       "      <td>221963.0</td>\n",
       "    </tr>\n",
       "  </tbody>\n",
       "</table>\n",
       "</div>"
      ],
      "text/plain": [
       "   Year  SuicideCount\n",
       "0  1990      207445.0\n",
       "1  1991      207584.0\n",
       "2  1992      221963.0"
      ]
     },
     "execution_count": 8,
     "metadata": {},
     "output_type": "execute_result"
    }
   ],
   "source": [
    "# Eliminate 2022 data\n",
    "df_clean = df[~(df[\"Year\"] == 2022)]\n",
    "# Calculate total suicide count in each year\n",
    "year_SuicideCount = df.groupby(\"Year\")[\"SuicideCount\"].sum().reset_index()\n",
    "year_SuicideCount.head(3)"
   ]
  },
  {
   "cell_type": "markdown",
   "metadata": {},
   "source": [
    "Visualize suicide trend over the years"
   ]
  },
  {
   "cell_type": "code",
   "execution_count": 26,
   "metadata": {},
   "outputs": [
    {
     "data": {
      "image/png": "[encoded data removed]",
      "text/plain": [
       "<Figure size 640x480 with 1 Axes>"
      ]
     },
     "metadata": {},
     "output_type": "display_data"
    }
   ],
   "source": [
    "# Plot the original data\n",
    "sns.lineplot(year_SuicideCount, x=\"Year\", y=\"SuicideCount\", color=\"navy\")\n",
    "# Plot trend\n",
    "sns.regplot(year_SuicideCount, x=\"Year\", y=\"SuicideCount\", color=\"yellowgreen\");"
   ]
  },
  {
   "cell_type": "markdown",
   "metadata": {},
   "source": [
    "The global trend is showing a decline. We will investigate various factors within the data to discern the underlying reasons for this trend. Nonetheless, it's important to note that this trend may vary across countries, as nations with higher rates of depression often experience increased incidents of suicide."
   ]
  },
  {
   "cell_type": "markdown",
   "metadata": {},
   "source": [
    "### Gender"
   ]
  },
  {
   "cell_type": "code",
   "execution_count": null,
   "metadata": {},
   "outputs": [],
   "source": []
  }
 ],
 "metadata": {
  "kernelspec": {
   "display_name": "Python 3 (ipykernel)",
   "language": "python",
   "name": "python3"
  },
  "language_info": {
   "codemirror_mode": {
    "name": "ipython",
    "version": 3
   },
   "file_extension": ".py",
   "mimetype": "text/x-python",
   "name": "python",
   "nbconvert_exporter": "python",
   "pygments_lexer": "ipython3",
   "version": "3.11.8"
  }
 },
 "nbformat": 4,
 "nbformat_minor": 4
}
